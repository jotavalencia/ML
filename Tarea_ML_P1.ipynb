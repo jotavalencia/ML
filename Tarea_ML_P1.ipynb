{
 "cells": [
  {
   "cell_type": "markdown",
   "metadata": {},
   "source": [
    "# TAREA 1\n",
    "#### ESTUDIANTES: Francisco Madariaga - Joaquín Valencia"
   ]
  },
  {
   "cell_type": "markdown",
   "metadata": {},
   "source": [
    "### Pregunta 1) El set de datos 1 contiene información respecto a los estudiantes que han ingresado a la faculta de ingeniría. Se le pide que implemente una regresión logística que permita aprender a clasificar a que cluster pertenece cada alumno de acuerdo la información que se entrega. Recuerde que por convención la última columna del set de datos representa la señal que usted quiere aprender. También tenga en cuenta que las clases están desbalanceadas y que se espera que usted utilice 80% de los datos para entrenar y el 20% restante para testear. Además, presente una matriz de confusión y el f1-score. Finalmente, una restricción fuerte de este ejercicio es que todo debe estar programado en tensorflow 2 y desarrollado en Colab."
   ]
  },
  {
   "cell_type": "code",
   "execution_count": 48,
   "metadata": {},
   "outputs": [],
   "source": [
    "# Importando librerías para analizar el set de datos\n",
    "import pandas as pd\n",
    "import numpy as np\n",
    "import matplotlib.pyplot as plt\n",
    "import seaborn as sns\n",
    "\n",
    "# Importando el dataset\n",
    "data = pd.read_excel('dataset1.xlsx')"
   ]
  },
  {
   "cell_type": "code",
   "execution_count": 49,
   "metadata": {},
   "outputs": [
    {
     "data": {
      "text/html": [
       "<div>\n",
       "<style scoped>\n",
       "    .dataframe tbody tr th:only-of-type {\n",
       "        vertical-align: middle;\n",
       "    }\n",
       "\n",
       "    .dataframe tbody tr th {\n",
       "        vertical-align: top;\n",
       "    }\n",
       "\n",
       "    .dataframe thead th {\n",
       "        text-align: right;\n",
       "    }\n",
       "</style>\n",
       "<table border=\"1\" class=\"dataframe\">\n",
       "  <thead>\n",
       "    <tr style=\"text-align: right;\">\n",
       "      <th></th>\n",
       "      <th>crr_Nom</th>\n",
       "      <th>psu_Nem</th>\n",
       "      <th>psu_Leng</th>\n",
       "      <th>psu_Mate</th>\n",
       "      <th>psu_Cie</th>\n",
       "      <th>psu_Pond</th>\n",
       "      <th>Longitud</th>\n",
       "      <th>Latitud</th>\n",
       "      <th>cred_apr</th>\n",
       "      <th>distancia</th>\n",
       "      <th>F</th>\n",
       "      <th>M</th>\n",
       "      <th>PARTICULAR_SUBVENCIONADO</th>\n",
       "      <th>PARTICULAR_PAGADO</th>\n",
       "      <th>MUNICIPAL</th>\n",
       "      <th>cluster</th>\n",
       "    </tr>\n",
       "  </thead>\n",
       "  <tbody>\n",
       "    <tr>\n",
       "      <th>0</th>\n",
       "      <td>INGENIERIA CIVIL INDUSTRIAL</td>\n",
       "      <td>783</td>\n",
       "      <td>653</td>\n",
       "      <td>685</td>\n",
       "      <td>672</td>\n",
       "      <td>735</td>\n",
       "      <td>-73.16487</td>\n",
       "      <td>-36.978759</td>\n",
       "      <td>38</td>\n",
       "      <td>20.201244</td>\n",
       "      <td>1</td>\n",
       "      <td>0</td>\n",
       "      <td>1</td>\n",
       "      <td>0</td>\n",
       "      <td>0</td>\n",
       "      <td>C2</td>\n",
       "    </tr>\n",
       "    <tr>\n",
       "      <th>1</th>\n",
       "      <td>INGENIERIA CIVIL BIOMEDICA</td>\n",
       "      <td>799</td>\n",
       "      <td>705</td>\n",
       "      <td>713</td>\n",
       "      <td>686</td>\n",
       "      <td>756</td>\n",
       "      <td>-73.16487</td>\n",
       "      <td>-36.978759</td>\n",
       "      <td>36</td>\n",
       "      <td>20.201244</td>\n",
       "      <td>1</td>\n",
       "      <td>0</td>\n",
       "      <td>1</td>\n",
       "      <td>0</td>\n",
       "      <td>0</td>\n",
       "      <td>C1</td>\n",
       "    </tr>\n",
       "    <tr>\n",
       "      <th>2</th>\n",
       "      <td>INGENIERIA CIVIL QUIMICA</td>\n",
       "      <td>688</td>\n",
       "      <td>543</td>\n",
       "      <td>612</td>\n",
       "      <td>534</td>\n",
       "      <td>638</td>\n",
       "      <td>-73.16487</td>\n",
       "      <td>-36.978759</td>\n",
       "      <td>36</td>\n",
       "      <td>20.201244</td>\n",
       "      <td>1</td>\n",
       "      <td>0</td>\n",
       "      <td>1</td>\n",
       "      <td>0</td>\n",
       "      <td>0</td>\n",
       "      <td>C3</td>\n",
       "    </tr>\n",
       "    <tr>\n",
       "      <th>3</th>\n",
       "      <td>INGENIERIA CIVIL ELECTRICA</td>\n",
       "      <td>605</td>\n",
       "      <td>598</td>\n",
       "      <td>658</td>\n",
       "      <td>601</td>\n",
       "      <td>633</td>\n",
       "      <td>-73.16487</td>\n",
       "      <td>-36.978759</td>\n",
       "      <td>21</td>\n",
       "      <td>20.201244</td>\n",
       "      <td>0</td>\n",
       "      <td>1</td>\n",
       "      <td>1</td>\n",
       "      <td>0</td>\n",
       "      <td>0</td>\n",
       "      <td>C2</td>\n",
       "    </tr>\n",
       "    <tr>\n",
       "      <th>4</th>\n",
       "      <td>INGENIERIA CIVIL INFORMATICA</td>\n",
       "      <td>603</td>\n",
       "      <td>710</td>\n",
       "      <td>668</td>\n",
       "      <td>651</td>\n",
       "      <td>657</td>\n",
       "      <td>-73.16487</td>\n",
       "      <td>-36.978759</td>\n",
       "      <td>19</td>\n",
       "      <td>20.201244</td>\n",
       "      <td>0</td>\n",
       "      <td>1</td>\n",
       "      <td>1</td>\n",
       "      <td>0</td>\n",
       "      <td>0</td>\n",
       "      <td>C2</td>\n",
       "    </tr>\n",
       "  </tbody>\n",
       "</table>\n",
       "</div>"
      ],
      "text/plain": [
       "                        crr_Nom  psu_Nem  psu_Leng  psu_Mate  psu_Cie  \\\n",
       "0   INGENIERIA CIVIL INDUSTRIAL      783       653       685      672   \n",
       "1    INGENIERIA CIVIL BIOMEDICA      799       705       713      686   \n",
       "2      INGENIERIA CIVIL QUIMICA      688       543       612      534   \n",
       "3    INGENIERIA CIVIL ELECTRICA      605       598       658      601   \n",
       "4  INGENIERIA CIVIL INFORMATICA      603       710       668      651   \n",
       "\n",
       "   psu_Pond  Longitud    Latitud  cred_apr  distancia  F  M  \\\n",
       "0       735 -73.16487 -36.978759        38  20.201244  1  0   \n",
       "1       756 -73.16487 -36.978759        36  20.201244  1  0   \n",
       "2       638 -73.16487 -36.978759        36  20.201244  1  0   \n",
       "3       633 -73.16487 -36.978759        21  20.201244  0  1   \n",
       "4       657 -73.16487 -36.978759        19  20.201244  0  1   \n",
       "\n",
       "   PARTICULAR_SUBVENCIONADO  PARTICULAR_PAGADO  MUNICIPAL cluster  \n",
       "0                         1                  0          0      C2  \n",
       "1                         1                  0          0      C1  \n",
       "2                         1                  0          0      C3  \n",
       "3                         1                  0          0      C2  \n",
       "4                         1                  0          0      C2  "
      ]
     },
     "execution_count": 49,
     "metadata": {},
     "output_type": "execute_result"
    }
   ],
   "source": [
    "#Revisando cómo se ve nuestro dataset\n",
    "data.head()"
   ]
  },
  {
   "cell_type": "code",
   "execution_count": 52,
   "metadata": {},
   "outputs": [
    {
     "data": {
      "text/plain": [
       "<matplotlib.axes._subplots.AxesSubplot at 0x24ca2254208>"
      ]
     },
     "execution_count": 52,
     "metadata": {},
     "output_type": "execute_result"
    },
    {
     "data": {
      "image/png": "[encoded data removed]",
      "text/plain": [
       "<Figure size 432x288 with 1 Axes>"
      ]
     },
     "metadata": {
      "needs_background": "light"
     },
     "output_type": "display_data"
    }
   ],
   "source": [
    "# ¿Faltan datos en alguna columna de nuestro dataset?\n",
    "sns.heatmap(data.isnull(),yticklabels=False,cbar=False)"
   ]
  },
  {
   "cell_type": "code",
   "execution_count": 168,
   "metadata": {},
   "outputs": [
    {
     "data": {
      "text/plain": [
       "<matplotlib.axes._subplots.AxesSubplot at 0x24ca940bf28>"
      ]
     },
     "execution_count": 168,
     "metadata": {},
     "output_type": "execute_result"
    },
    {
     "data": {
      "image/png": "[encoded data removed]",
      "text/plain": [
       "<Figure size 576x576 with 1 Axes>"
      ]
     },
     "metadata": {},
     "output_type": "display_data"
    }
   ],
   "source": [
    "#¿Hay alguna correlación visible entre clusters y la localización de los estudiantes?\n",
    "plt.figure(figsize=(8,8))\n",
    "sns.scatterplot(x='Longitud',y='Latitud',data=data,hue='cluster',edgecolor=None,palette='viridis',legend='brief')"
   ]
  },
  {
   "cell_type": "code",
   "execution_count": 146,
   "metadata": {},
   "outputs": [],
   "source": [
    "# Obteniendo nuestras matrices para el modelo\n",
    "y = data['cluster']\n",
    "X = data.drop(['cluster'],axis=1)"
   ]
  },
  {
   "cell_type": "markdown",
   "metadata": {},
   "source": [
    "Para preparar la matriz X, es importante notar que hay varias variables binarias que hay que eliminar, dado que ambas presentan multicolinearidad perfecta. Este es el caso de 'F' y 'M', o 'PARTICULAR_SUBVENCIONADO', 'PARTICULAR_PAGADO' y 'MUNICIPAL'.\n",
    "\n",
    "Para solucionar este problema, solamente eliminaremos una variable que le permita al modelo entender la caracterización que tratamos de representar con las variables. Es decir, si dejamos 'M', el modelo ya puede saber si la persona es Hombre o Mujer (1 = Hombre, 0 = Mujer). De la misma manera, podemos dejar solo 2 de las 3 variables que se relacionan con la educación secundaria de la persona.\n",
    "\n",
    "El criterio a utilizar para determinar qué variables quedarán, son las que tienen mayor presencia en nuestros datos. (Ej: Hay más Hombres que Mujeres)\n",
    "\n",
    "Además, hay ocasiones en que una variable compuesta por texto se elimine de la estimación, ya que no es numérica. Pero para este caso haremos uso de la información que contiene al hacer uso de variables Dummy para representar a qué carrera pertenece el estudiante.\n",
    "\n"
   ]
  },
  {
   "cell_type": "code",
   "execution_count": 147,
   "metadata": {},
   "outputs": [],
   "source": [
    "y = pd.get_dummies(data['cluster'])\n",
    "X = X.join(pd.get_dummies(X['crr_Nom']))\n",
    "X = X.drop(['F','MUNICIPAL','INGENIERIA CIVIL AEROESPACIAL','crr_Nom'],axis=1)\n",
    "\n",
    "#Transformando los DataFrames a Numpy-Arrays\n",
    "X = X.values\n",
    "y = y.values"
   ]
  },
  {
   "cell_type": "code",
   "execution_count": 148,
   "metadata": {},
   "outputs": [],
   "source": [
    "# Importando librerías para construir el modelo\n",
    "from sklearn.model_selection import train_test_split\n",
    "from sklearn.preprocessing import MinMaxScaler\n",
    "from tensorflow.keras.models import Sequential\n",
    "from tensorflow.keras.layers import Dense\n"
   ]
  },
  {
   "cell_type": "code",
   "execution_count": 149,
   "metadata": {},
   "outputs": [],
   "source": [
    "# Creando los sets de entrenamiento y prueba\n",
    "X_train, X_test, y_train, y_test = train_test_split(X, y, test_size=0.2, random_state=42)\n",
    "scaler = MinMaxScaler()\n",
    "X_train = scaler.fit_transform(X_train)\n",
    "X_test = scaler.transform(X_test)"
   ]
  },
  {
   "cell_type": "code",
   "execution_count": 150,
   "metadata": {},
   "outputs": [
    {
     "data": {
      "text/plain": [
       "<tensorflow.python.keras.callbacks.History at 0x24ca81c9400>"
      ]
     },
     "execution_count": 150,
     "metadata": {},
     "output_type": "execute_result"
    }
   ],
   "source": [
    "# Creando el modelo\n",
    "model = Sequential()\n",
    "\n",
    "# Input Layer\n",
    "model.add(Dense(16, activation='sigmoid'))\n",
    "\n",
    "# Hidden Layers\n",
    "model.add(Dense(16, activation='sigmoid'))\n",
    "model.add(Dense(10, activation='sigmoid'))\n",
    "model.add(Dense(8, activation='sigmoid'))\n",
    "\n",
    "# Ouput Layer\n",
    "model.add(Dense(4,activation='softmax'))\n",
    "\n",
    "# Compiler\n",
    "model.compile(optimizer='adam',loss='categorical_crossentropy',metrics = ['categorical_accuracy'])\n",
    "\n",
    "# Ajustando el modelo\n",
    "model.fit(x=X_train,y=y_train,epochs=500,verbose=False)"
   ]
  },
  {
   "cell_type": "code",
   "execution_count": 164,
   "metadata": {},
   "outputs": [
    {
     "data": {
      "text/plain": [
       "<matplotlib.axes._subplots.AxesSubplot at 0x24ca9620160>"
      ]
     },
     "execution_count": 164,
     "metadata": {},
     "output_type": "execute_result"
    },
    {
     "data": {
      "image/png": "[encoded data removed]",
      "text/plain": [
       "<Figure size 432x288 with 1 Axes>"
      ]
     },
     "metadata": {},
     "output_type": "display_data"
    }
   ],
   "source": [
    "# Graficando la pérdida del modelo y el Categorical Accuracy.\n",
    "losses = pd.DataFrame(model.history.history)\n",
    "losses.plot()"
   ]
  },
  {
   "cell_type": "code",
   "execution_count": 170,
   "metadata": {},
   "outputs": [],
   "source": [
    "from sklearn.metrics import multilabel_confusion_matrix\n",
    "from sklearn.metrics import classification_report\n",
    "\n",
    "def to_which_category(coef):\n",
    "    one_hot = np.zeros(coef.shape)\n",
    "    coef_np = coef.values\n",
    "    for i in range(coef.shape[0]):\n",
    "        one_hot[i][np.argmax(coef_np[i])] = 1\n",
    "    one_hot = pd.DataFrame(one_hot)\n",
    "    return one_hot\n",
    "    \n",
    "def how_many(one_hot):\n",
    "    return one_hot.sum()\n",
    "\n",
    "# Entregandole los datos de prueba al modelo ajustado.\n",
    "prediction = pd.DataFrame(model.predict(X_test))\n",
    "\n",
    "# Determinando qué categorías predijo el modelo.\n",
    "categorized = to_which_category(prediction)"
   ]
  },
  {
   "cell_type": "markdown",
   "metadata": {},
   "source": [
    "### Al evaluar un modelo se pueden utilizar diversas métricas. En este caso haremos uso de 2; el f1-score y la confusion matrix.\n",
    "\n",
    "##### El f1-score es la media harmónica entre el precision score y el recall score. Ambas métricas entregan información valiosa para determinar si nuestro modelo está entregando buenos resultados o no.\n",
    "\n",
    "$$f_{1} score = \\frac{2}{{precision^{-1}} + {recall^{-1}}} =2 * \\frac{precision * recall}{precision + recall}$$\n",
    "\n",
    "El Precision score se interpreta como la proporción de Positivos verdaderos entre todos los positivos que estimó el modelo, sean verdaderos o falsos.\n",
    "\n",
    "$ Precision_{score} = \\frac{True Positives}{True Positives + False Positives}$\n",
    "\n",
    "\n",
    "El Recall score se interpreta como la proporción de Positivos verdaderos entre todos los realmente positivos (positivos verdaderos + falsos negativos).\n",
    "\n",
    "$ Recall_{score} = \\frac{True Positives}{True Positives + False Negatives}$"
   ]
  },
  {
   "cell_type": "code",
   "execution_count": 171,
   "metadata": {},
   "outputs": [
    {
     "name": "stdout",
     "output_type": "stream",
     "text": [
      "              precision    recall  f1-score   support\n",
      "\n",
      "           0       0.86      0.90      0.88       287\n",
      "           1       0.88      0.85      0.86       708\n",
      "           2       0.80      0.83      0.81       361\n",
      "           3       0.80      0.78      0.79       218\n",
      "\n",
      "   micro avg       0.84      0.84      0.84      1574\n",
      "   macro avg       0.83      0.84      0.84      1574\n",
      "weighted avg       0.84      0.84      0.84      1574\n",
      " samples avg       0.84      0.84      0.84      1574\n",
      "\n"
     ]
    }
   ],
   "source": [
    "print(classification_report(y_test,categorized))"
   ]
  },
  {
   "cell_type": "markdown",
   "metadata": {},
   "source": [
    "Los 3 scores que comentamos anteriormente tienen un valor entre 0 y 1, siendo 1 el mayor valor que pueden tomar.\n",
    "En este caso nos interesa el f1-score, los cuales presentan valores aceptables para las 4 categorías de estudio."
   ]
  },
  {
   "cell_type": "markdown",
   "metadata": {},
   "source": [
    "### Por otro lado, la confusion matrix nos permite visualizar qué tan bien está prediciendo nuestro modelo en términos de True Positives, False Positives, True Negatives, False Negatives. La forma en que se lee una confusion matrix es la siguiente.\n",
    "\n",
    "<img src=\"https://static.packt-cdn.com/products/9781838555078/graphics/C13314_06_05.jpg\" width=\"400\" height=\"400\" />\n",
    "\n",
    "En este caso, como tenemos un problema de multiclases excluyentes, veremos una confusion matrix para cada clase. Estas se presentan a continuación"
   ]
  },
  {
   "cell_type": "code",
   "execution_count": 191,
   "metadata": {},
   "outputs": [
    {
     "name": "stdout",
     "output_type": "stream",
     "text": [
      "[[[1245   42]\n",
      "  [  29  258]]\n",
      "\n",
      " [[ 782   84]\n",
      "  [ 108  600]]\n",
      "\n",
      " [[1136   77]\n",
      "  [  60  301]]\n",
      "\n",
      " [[1313   43]\n",
      "  [  49  169]]]\n"
     ]
    }
   ],
   "source": [
    "print(multilabel_confusion_matrix(y_test,categorized))"
   ]
  },
  {
   "cell_type": "markdown",
   "metadata": {},
   "source": [
    "Como podemos observar, en las categorías C1, C3 y C4 está clasificando relativamente bien. Mientras que en la categoría C2 hay una gran cantidad de Falsos Negativos y Falsos positivos, lo que está afectando directamente a los scores anteriormente mencionados y nos permite ver que la predicción del modelo podría ser mejor."
   ]
  },
  {
   "cell_type": "markdown",
   "metadata": {},
   "source": [
    "## Prueba 2\n",
    "\n",
    "#### Eliminando todas las variables que podrían presentar algún problema, simplificando el modelo para tratar de ver si puede predecir algo medianamente lógico, o aumentar el accuracy de la predicción"
   ]
  },
  {
   "cell_type": "code",
   "execution_count": null,
   "metadata": {},
   "outputs": [],
   "source": [
    "y2 = data['cluster']\n",
    "X2 = data.drop('cluster',axis=1)"
   ]
  },
  {
   "cell_type": "code",
   "execution_count": null,
   "metadata": {},
   "outputs": [],
   "source": [
    "X2.drop(['crr_Nom','Longitud','Latitud','F','MUNICIPAL'],axis=1,inplace=True)"
   ]
  },
  {
   "cell_type": "code",
   "execution_count": null,
   "metadata": {},
   "outputs": [],
   "source": [
    "X2.head()"
   ]
  },
  {
   "cell_type": "code",
   "execution_count": null,
   "metadata": {},
   "outputs": [],
   "source": [
    "y2 = y2.astype('category')\n",
    "y2 = y2.cat.codes\n",
    "y2 = y2.values\n",
    "X2 = X2.values"
   ]
  },
  {
   "cell_type": "code",
   "execution_count": null,
   "metadata": {},
   "outputs": [],
   "source": [
    "X2_train, X2_test, y2_train, y2_test = train_test_split(X2, y2, test_size=0.2, random_state=42)\n",
    "scaler = MinMaxScaler()\n",
    "X2_train = scaler.fit_transform(X2_train)\n",
    "X2_test = scaler.transform(X2_test)"
   ]
  },
  {
   "cell_type": "code",
   "execution_count": null,
   "metadata": {},
   "outputs": [],
   "source": [
    "# Creando el modelo\n",
    "model2 = Sequential()\n",
    "\n",
    "model2.add(Dense(25, activation='sigmoid'))\n",
    "model2.add(Dense(25, activation='sigmoid'))\n",
    "model2.add(Dense(25, activation='sigmoid'))\n",
    "\n",
    "model2.add(Dense(4,activation='softmax'))\n",
    "\n",
    "model2.compile(optimizer='sgd',loss='categorical_crossentropy',metrics = ['accuracy'])"
   ]
  },
  {
   "cell_type": "code",
   "execution_count": null,
   "metadata": {},
   "outputs": [],
   "source": [
    "model2.fit(x=X2_train,y=y2_train,epochs=200,verbose=False)"
   ]
  },
  {
   "cell_type": "code",
   "execution_count": null,
   "metadata": {},
   "outputs": [],
   "source": [
    "pred = model2.predict(X2_test)\n",
    "pred = np.argmax(pred,axis=1)\n",
    "y_test2 = np.argmax(y2_test)\n",
    "\n",
    "w = pd.DataFrame(pred)\n",
    "w['real'] = y2_test\n",
    "w['accuracy'] = w[0] == w['real']\n",
    "print((w['accuracy'].sum() / w.shape[0] )*100)"
   ]
  },
  {
   "cell_type": "markdown",
   "metadata": {},
   "source": [
    "## Prueba 3\n",
    "\n",
    "### intentándolo con tensorflow puro"
   ]
  },
  {
   "cell_type": "code",
   "execution_count": 35,
   "metadata": {},
   "outputs": [],
   "source": [
    "#Declaring necessary modules\n",
    "from __future__ import absolute_import\n",
    "from __future__ import division\n",
    "from __future__ import print_function\n",
    "import tensorflow as tf\n",
    "tf.autograph.set_verbosity(2)\n",
    "\n",
    "# Declare the inputs\n",
    "x = tf.constant(X_train, dtype=tf.float64, name='x')\n",
    "y = tf.constant(y_train, dtype=tf.float64, name='cluster')\n"
   ]
  },
  {
   "cell_type": "code",
   "execution_count": 42,
   "metadata": {},
   "outputs": [],
   "source": [
    "class Model(object):\n",
    "    def __init__(self):\n",
    "        samples, features = (X_train.shape[0],X_train.shape[1]) #x.shape\n",
    "        hidden1_nodes = 4\n",
    "        hidden2_nodes = 4\n",
    "        self.theta1 = tf.Variable(tf.random.normal([features+1,hidden1_nodes], dtype= tf.float64) ,name = \"Theta1\")\n",
    "        self.theta2 = tf.Variable(tf.random.normal([hidden1_nodes+1,hidden2_nodes], dtype= tf.float64), name = \"Theta2\")\n",
    "\n",
    "    def __call__(self, x):\n",
    "        bias1 = tf.constant(1, shape=(X_train.shape[0],1), dtype=tf.float64, name='bias1')\n",
    "        bias2 = tf.constant(1, shape=(X_train.shape[0],1), dtype=tf.float64, name='bias2')\n",
    "        a0 = tf.concat([bias1,x],1, name='a0')\n",
    "        z1 = tf.matmul(a0,self.theta1, name='z1')\n",
    "        a1 = tf.concat([bias2,tf.sigmoid(z1)],1,name='a1')\n",
    "        z2 = tf.matmul(a1,self.theta2, name='z2')\n",
    "        a2 = tf.nn.softmax(z2, name='a2')\n",
    "        return a2\n",
    "\n",
    "def loss(target_y, predicted_y):\n",
    "    return -tf.reduce_sum(target_y*tf.math.log(predicted_y)+(1-target_y)*tf.math.log(1-predicted_y), axis = 0, name='Cost_function')\n",
    "    \n",
    "def train(model, inputs, outputs, learning_rate):\n",
    "    with tf.GradientTape() as t:\n",
    "        current_loss = loss(outputs, model(inputs))\n",
    "    dThe1, dThe2 = t.gradient(current_loss, [model.theta1, model.theta2])\n",
    "    model.theta1.assign_sub(learning_rate * dThe1)\n",
    "    model.theta2.assign_sub(learning_rate * dThe2)\n",
    "    \n",
    "#%% [markdown]\n",
    "### Optimize\n",
    "    \n",
    "#%%\n",
    "model = Model()\n",
    "theta1_hist, theta2_hist = [], []\n",
    "for epoch in range(60):\n",
    "    current_loss = loss(y, model(x))\n",
    "    learning_rate = 0.05\n",
    "    train(model, x, y, learning_rate=learning_rate)\n",
    "    if epoch % 100 == 0:\n",
    "        theta1_hist.append(model.theta1.numpy())\n",
    "        theta2_hist.append(model.theta2.numpy())"
   ]
  },
  {
   "cell_type": "code",
   "execution_count": 49,
   "metadata": {},
   "outputs": [
    {
     "ename": "AttributeError",
     "evalue": "'Model' object has no attribute 'Theta1'",
     "output_type": "error",
     "traceback": [
      "\u001b[1;31m---------------------------------------------------------------------------\u001b[0m",
      "\u001b[1;31mAttributeError\u001b[0m                            Traceback (most recent call last)",
      "\u001b[1;32m<ipython-input-49-5d6803f47596>\u001b[0m in \u001b[0;36m<module>\u001b[1;34m\u001b[0m\n\u001b[1;32m----> 1\u001b[1;33m \u001b[0mmodel\u001b[0m\u001b[1;33m.\u001b[0m\u001b[0mTheta1\u001b[0m\u001b[1;33m\u001b[0m\u001b[1;33m\u001b[0m\u001b[0m\n\u001b[0m",
      "\u001b[1;31mAttributeError\u001b[0m: 'Model' object has no attribute 'Theta1'"
     ]
    }
   ],
   "source": []
  },
  {
   "cell_type": "code",
   "execution_count": 22,
   "metadata": {},
   "outputs": [
    {
     "data": {
      "text/plain": [
       "TensorShape([6292, 4])"
      ]
     },
     "execution_count": 22,
     "metadata": {},
     "output_type": "execute_result"
    }
   ],
   "source": []
  },
  {
   "cell_type": "code",
   "execution_count": null,
   "metadata": {},
   "outputs": [],
   "source": []
  }
 ],
 "metadata": {
  "kernelspec": {
   "display_name": "tf-mcbi",
   "language": "python",
   "name": "tf-mcbi"
  },
  "language_info": {
   "codemirror_mode": {
    "name": "ipython",
    "version": 3
   },
   "file_extension": ".py",
   "mimetype": "text/x-python",
   "name": "python",
   "nbconvert_exporter": "python",
   "pygments_lexer": "ipython3",
   "version": "3.6.10"
  }
 },
 "nbformat": 4,
 "nbformat_minor": 2
}
