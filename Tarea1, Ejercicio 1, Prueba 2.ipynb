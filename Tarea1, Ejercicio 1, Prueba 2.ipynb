{
 "cells": [
  {
   "cell_type": "markdown",
   "metadata": {},
   "source": [
    "# PRIMERA PARTE\n",
    "\n",
    "### Importamos las librerías necesarias para realizar la lectura de datos desde el data set y construir el modelo, además de importar el dataset1.xlsx"
   ]
  },
  {
   "cell_type": "code",
   "execution_count": 92,
   "metadata": {},
   "outputs": [],
   "source": [
    "import pandas as pd\n",
    "import numpy as np\n",
    "import matplotlib.pyplot as plt\n",
    "import seaborn as sns\n",
    "# Importando librerías para construir el modelo\n",
    "from sklearn.model_selection import train_test_split\n",
    "from sklearn.preprocessing import MinMaxScaler\n",
    "import tensorflow as tf\n",
    "from sklearn.metrics import mean_squared_error, mean_absolute_error, explained_variance_score\n",
    "from sklearn.metrics import classification_report, multilabel_confusion_matrix\n",
    "# Importando el dataset\n",
    "data = pd.read_excel('dataset1.xlsx')"
   ]
  },
  {
   "cell_type": "markdown",
   "metadata": {},
   "source": [
    "# SEGUNDA PARTE\n",
    "\n",
    "## Se generan los set de entradas, donde los X representan las carácteristica de cada muestra y los \"y\" representan los grupos a los cuales pertenecen"
   ]
  },
  {
   "cell_type": "markdown",
   "metadata": {},
   "source": [
    "##### transformamos los nombres de las carreras en un vector de unos y ceros, con solo una asginación (one_hot_vector) y descartamos un genero, una de las carreras y uno de los colegios, ya que con su par o grupo generan multicolinealidad perfecta"
   ]
  },
  {
   "cell_type": "code",
   "execution_count": 93,
   "metadata": {},
   "outputs": [],
   "source": [
    "X = data\n",
    "X = X.join(pd.get_dummies(X['crr_Nom']))\n",
    "X.drop(['INGENIERIA CIVIL AEROESPACIAL','crr_Nom','cluster','F', 'MUNICIPAL'],axis=1,inplace=True)\n",
    "X = X.values"
   ]
  },
  {
   "cell_type": "markdown",
   "metadata": {},
   "source": [
    "#### Al igual que en el caso anterior, transformamos los grupos en vectores de unos y ceros, con solo un 1 en cada vector"
   ]
  },
  {
   "cell_type": "code",
   "execution_count": 94,
   "metadata": {},
   "outputs": [],
   "source": [
    "y = data.join(pd.get_dummies(data['cluster']))\n",
    "y = y[['C1','C2','C3','C4']]\n",
    "y = y.values"
   ]
  },
  {
   "cell_type": "markdown",
   "metadata": {},
   "source": [
    "### En este punto se determinan los set de entrenamiento y de prueba, con una relación 80-20"
   ]
  },
  {
   "cell_type": "code",
   "execution_count": 95,
   "metadata": {},
   "outputs": [],
   "source": [
    "X_train, X_test, y_train, y_test = train_test_split(X, y, test_size=0.2, random_state=42)\n",
    "scaler = MinMaxScaler()\n",
    "X_train = scaler.fit_transform(X_train)\n",
    "X_test = scaler.transform(X_test)"
   ]
  },
  {
   "cell_type": "markdown",
   "metadata": {},
   "source": [
    "# TERCERA PARTE\n",
    "\n",
    "## Se crea el modelo como una clase"
   ]
  },
  {
   "cell_type": "markdown",
   "metadata": {},
   "source": [
    "#### En la primera parte del modelo (__init__)  determinamos cuantas capas tendremos y cuantas neuronas en cada nodo, además de los epochs y las dimensiones de los thetas para la regresión\n",
    "\n",
    "#### En el apartado dos (__call__) Se crean los Bias (vector columna de unos) y se realizan las multiplicaciones correspondientes entre los features y los thetas correspondientes. En este punto se utiliza la función sigmoide en cada una de las capas y la función softmax para realizar la última asignación\n",
    "\n",
    "#### Definimos train como el apartado donde se lleva a cabo la minimización de la función de perdida y se asignan los nuevos thetas a los anteriores.\n",
    "\n",
    "#### luego en __name__ llamamos a l función con los valores de x e y asignados para el entrenamiento y se realiza el mismo, a posteriori se realiza la prueba con los parametros asignados para esto"
   ]
  },
  {
   "cell_type": "code",
   "execution_count": 82,
   "metadata": {},
   "outputs": [],
   "source": [
    "class Model(object):\n",
    "    def __init__(self, hidden1_nodes, hidden2_nodes,hidden3_nodes, hidden4_nodes,dim, epochs=1000):\n",
    "        self.hidden1_nodes = hidden1_nodes #16\n",
    "        self.hidden2_nodes = hidden2_nodes #16\n",
    "        self.hidden3_nodes = hidden3_nodes #10\n",
    "        self.hidden4_nodes = hidden4_nodes #8\n",
    "        self.epochs = epochs\n",
    "        samples, features = dim\n",
    "        self.theta1 = tf.Variable(tf.random.normal([features+1,self.hidden1_nodes], dtype= tf.float64) ,name = \"Theta1\")\n",
    "        self.theta2 = tf.Variable(tf.random.normal([self.hidden1_nodes+1,self.hidden2_nodes], dtype= tf.float64), name = \"Theta2\")\n",
    "        self.theta3 = tf.Variable(tf.random.normal([self.hidden2_nodes+1,self.hidden3_nodes], dtype= tf.float64), name = \"Theta3\")\n",
    "        self.theta4 = tf.Variable(tf.random.normal([self.hidden3_nodes+1,self.hidden4_nodes], dtype= tf.float64), name = \"Theta4\")\n",
    "\n",
    "    def __call__(self, x):\n",
    "        samples = x.shape[0]\n",
    "        self.bias1 = tf.constant(1, dtype=tf.float64, shape=(samples,1), name='bias1')\n",
    "        self.bias2 = tf.constant(1, dtype=tf.float64, shape=(samples,1), name='bias2')\n",
    "        self.bias3 = tf.constant(1, dtype=tf.float64, shape=(samples,1), name='bias3')\n",
    "        self.bias4 = tf.constant(1, dtype=tf.float64, shape=(samples,1), name='bias4')\n",
    "        \n",
    "        a0 = tf.concat([self.bias1,x],1, name='a0')\n",
    "        \n",
    "        z1 = tf.matmul(a0,self.theta1, name='z1')\n",
    "        a1 = tf.concat([self.bias2,tf.sigmoid(z1)],1,name='a1')\n",
    "        \n",
    "        z2 = tf.matmul(a1,self.theta2, name='z2')\n",
    "        a2 = tf.concat([self.bias3,tf.sigmoid(z2)],1,name='a2')\n",
    "        \n",
    "        z3 = tf.matmul(a2,self.theta3, name='z3')\n",
    "        a3 = tf.concat([self.bias4,tf.sigmoid(z3)],1,name='a3')\n",
    "        \n",
    "        z4 = tf.matmul(a3,self.theta4, name='z4')\n",
    "        a4 = tf.nn.softmax(z4, name='a4')\n",
    "        return a4\n",
    "\n",
    "    \n",
    "    def train(self, inputs, outputs):\n",
    "        theta1_hist, theta2_hist, theta3_hist, theta4_hist= [], [], [], []\n",
    "        for epoch in range(self.epochs):\n",
    "            learning_rate = 0.5\n",
    "            with tf.GradientTape() as t:\n",
    "                loss = Model.loss(outputs, self.predict(inputs))\n",
    "                dThe1, dThe2, dThe3, dThe4 = t.gradient(loss, [self.theta1, self.theta2,self.theta3,self.theta4])\n",
    "                self.theta1.assign_sub(learning_rate * dThe1)\n",
    "                self.theta2.assign_sub(learning_rate * dThe2)\n",
    "                self.theta3.assign_sub(learning_rate * dThe3)\n",
    "                self.theta4.assign_sub(learning_rate * dThe4)\n",
    "                theta1_hist.append(self.theta1.numpy())\n",
    "                theta2_hist.append(self.theta2.numpy())\n",
    "                theta3_hist.append(self.theta3.numpy())\n",
    "                theta4_hist.append(self.theta4.numpy())\n",
    "                \n",
    "    def predict(self, x):\n",
    "        return self.__call__(x)\n",
    "    \n",
    "    @staticmethod\n",
    "    def loss(target_y, predicted_y):\n",
    "        return tf.reduce_mean(-tf.reduce_sum(target_y*tf.math.log(predicted_y), axis=1), axis = 0, name='Cost_function'\n",
    "                              \n",
    "                              \n",
    "if __name__ == \"__main__\": \n",
    "    x = tf.constant(X_train, dtype=tf.float64, name='features')\n",
    "    y = tf.constant(y_train, dtype=tf.float64, name='cluster')\n",
    "    xtest = tf.constant(X_test, dtype=tf.float64, name='features_test')\n",
    "    cluster = Model(hidden1_nodes=16,hidden2_nodes=16,hidden3_nodes=10, hidden4_nodes=4, dim=x.shape)\n",
    "    cluster.train(x,y)\n",
    "    cluster.predict(xtest)"
   ]
  },
  {
   "cell_type": "code",
   "execution_count": 85,
   "metadata": {},
   "outputs": [],
   "source": [
    "def to_one_and_ceros(coef):\n",
    "    one_hot = np.zeros(coef.shape)\n",
    "    coef_np = coef.values\n",
    "    for i in range(coef.shape[0]):\n",
    "        one_hot[i][np.argmax(coef_np[i])] = 1\n",
    "    one_hot = pd.DataFrame(one_hot)\n",
    "    return one_hot\n",
    "    \n",
    "def how_many(one_hot):\n",
    "    return one_hot.sum()\n",
    "\n",
    "def sum_prob(one_hot):\n",
    "    coef = one_hot.values\n",
    "    suma_prob=np.zeros((one_hot.shape[0],1))\n",
    "    for i in range(one_hot.shape[0]):\n",
    "        suma_prob[i]= np.sum(coef[i])\n",
    "    return suma_prob"
   ]
  },
  {
   "cell_type": "code",
   "execution_count": 96,
   "metadata": {},
   "outputs": [],
   "source": [
    "predicción = pd.DataFrame(cluster.predict(xtest).numpy())\n",
    "coding=to_one_and_ceros(predicción)\n",
    "cuenta = how_many(coding)"
   ]
  },
  {
   "cell_type": "code",
   "execution_count": 97,
   "metadata": {},
   "outputs": [
    {
     "name": "stdout",
     "output_type": "stream",
     "text": [
      "              precision    recall  f1-score   support\n",
      "\n",
      "           0       0.70      0.87      0.78       287\n",
      "           1       0.75      0.81      0.78       708\n",
      "           2       0.79      0.61      0.69       361\n",
      "           3       0.82      0.68      0.74       218\n",
      "\n",
      "   micro avg       0.76      0.76      0.76      1574\n",
      "   macro avg       0.77      0.74      0.75      1574\n",
      "weighted avg       0.76      0.76      0.75      1574\n",
      " samples avg       0.76      0.76      0.76      1574\n",
      "\n"
     ]
    }
   ],
   "source": [
    "print(classification_report(y_test,coding))"
   ]
  },
  {
   "cell_type": "code",
   "execution_count": 88,
   "metadata": {},
   "outputs": [
    {
     "name": "stdout",
     "output_type": "stream",
     "text": [
      "              precision    recall  f1-score   support\n",
      "\n",
      "           0       0.70      0.87      0.78       287\n",
      "           1       0.75      0.81      0.78       708\n",
      "           2       0.79      0.61      0.69       361\n",
      "           3       0.82      0.68      0.74       218\n",
      "\n",
      "   micro avg       0.76      0.76      0.76      1574\n",
      "   macro avg       0.77      0.74      0.75      1574\n",
      "weighted avg       0.76      0.76      0.75      1574\n",
      " samples avg       0.76      0.76      0.76      1574\n",
      "\n"
     ]
    }
   ],
   "source": [
    "multilabel_confusion_matrix(y_test,coding)"
   ]
  },
  {
   "cell_type": "code",
   "execution_count": 90,
   "metadata": {},
   "outputs": [
    {
     "data": {
      "text/plain": [
       "<matplotlib.axes._subplots.AxesSubplot at 0x1ae22c1ecc0>"
      ]
     },
     "execution_count": 90,
     "metadata": {},
     "output_type": "execute_result"
    },
    {
     "data": {
      "image/png": "[encoded data removed]",
      "text/plain": [
       "<Figure size 432x288 with 2 Axes>"
      ]
     },
     "metadata": {
      "needs_background": "light"
     },
     "output_type": "display_data"
    }
   ],
   "source": [
    "sns.heatmap(multilabel_confusion_matrix(y_test,coding)[])"
   ]
  }
 ],
 "metadata": {
  "kernelspec": {
   "display_name": "Python 3.6.10 64-bit ('ML2.0': conda)",
   "language": "python",
   "name": "python361064bitml20conda19a91bfc1cdf432e94b49d16f484b399"
  },
  "language_info": {
   "codemirror_mode": {
    "name": "ipython",
    "version": 3
   },
   "file_extension": ".py",
   "mimetype": "text/x-python",
   "name": "python",
   "nbconvert_exporter": "python",
   "pygments_lexer": "ipython3",
   "version": "3.6.10"
  }
 },
 "nbformat": 4,
 "nbformat_minor": 2
}
